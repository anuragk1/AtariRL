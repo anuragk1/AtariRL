{
 "cells": [
  {
   "cell_type": "code",
   "execution_count": 1,
   "id": "88746b69",
   "metadata": {},
   "outputs": [],
   "source": [
    "import numpy as np\n",
    "import gym\n",
    "import random\n",
    "from IPython.display import clear_output"
   ]
  },
  {
   "cell_type": "code",
   "execution_count": 2,
   "id": "6c5595f4",
   "metadata": {},
   "outputs": [],
   "source": [
    "env = gym.make(\"Taxi-v3\")"
   ]
  },
  {
   "cell_type": "code",
   "execution_count": 5,
   "id": "f644e617",
   "metadata": {},
   "outputs": [
    {
     "name": "stdout",
     "output_type": "stream",
     "text": [
      "Episode: 9\n",
      "Score: -731\n"
     ]
    }
   ],
   "source": [
    "episodes = 10\n",
    "\n",
    "for episode in range(1, episodes):\n",
    "    state = env.reset()\n",
    "    done = False\n",
    "    score = 0\n",
    "    \n",
    "    while not done:\n",
    "        env.render()\n",
    "        state, reward, done, info = env.step(env.action_space.sample())\n",
    "        score += reward\n",
    "        clear_output(wait=True)\n",
    "    print('Episode: {}\\nScore: {}'.format(episode, score))\n",
    "    \n",
    "env.close()"
   ]
  },
  {
   "cell_type": "code",
   "execution_count": 10,
   "id": "aa611835",
   "metadata": {},
   "outputs": [],
   "source": [
    "#Creating Q-Table\n",
    "actions = env.action_space.n\n",
    "state = env.observation_space.n\n",
    "\n",
    "q_table = np.zeros((state, actions))"
   ]
  },
  {
   "cell_type": "code",
   "execution_count": 18,
   "id": "35fb8c64",
   "metadata": {},
   "outputs": [],
   "source": [
    "#Parameters for Q-Learning\n",
    "num_episodes = 10000\n",
    "max_steps_per_episode = 100\n",
    "\n",
    "learning_rate = 0.1\n",
    "discount_rate = 0.99\n",
    "\n",
    "exploration_rate = 1\n",
    "max_exploration_rate = 1\n",
    "min_exploration_rate = 0.01\n",
    "exploration_decay_rate = 0.001\n",
    "\n",
    "rewards_all_episodes = []\n"
   ]
  },
  {
   "cell_type": "code",
   "execution_count": 19,
   "id": "b9f7edf8",
   "metadata": {},
   "outputs": [
    {
     "name": "stdout",
     "output_type": "stream",
     "text": [
      "******* Training Finished *******\n"
     ]
    }
   ],
   "source": [
    "#Q-Learning Algorithm\n",
    "for episode in range(num_episodes):\n",
    "    state = env.reset()\n",
    "    done = False\n",
    "    rewards_current_episode = 0\n",
    "    \n",
    "    for step in range(max_steps_per_episode):\n",
    "        \n",
    "        #Exploration vs Exploitation trade-off\n",
    "        exploration_threshold = random.uniform(0, 1)\n",
    "        if exploration_threshold > exploration_rate:\n",
    "            action = np.argmax(q_table[state,:])\n",
    "        else:\n",
    "            action = env.action_space.sample()\n",
    "            \n",
    "        new_state, reward, done, info = env.step(action)\n",
    "        \n",
    "        #Update Q-Table\n",
    "        q_table[state, action] = q_table[state, action] * (1-learning_rate) + learning_rate * (reward + discount_rate * np.max(q_table[new_state, :]))\n",
    "        \n",
    "        state = new_state\n",
    "        \n",
    "        rewards_current_episode += reward\n",
    "        \n",
    "        if done == True:\n",
    "            break\n",
    "            \n",
    "    exploration_rate = min_exploration_rate + \\\n",
    "                        (max_exploration_rate - min_exploration_rate) * np.exp(-exploration_decay_rate * episode)\n",
    "    rewards_all_episodes.append(rewards_current_episode)\n",
    "    \n",
    "print(\"******* Training Finished *******\")"
   ]
  },
  {
   "cell_type": "code",
   "execution_count": 20,
   "id": "5121912b",
   "metadata": {},
   "outputs": [
    {
     "data": {
      "text/plain": [
       "array([[ 0.        ,  0.        ,  0.        ,  0.        ,  0.        ,\n",
       "         0.        ],\n",
       "       [-0.23829361, -1.42862194, -0.91341806,  0.50350245,  9.6220697 ,\n",
       "        -7.32153091],\n",
       "       [ 3.18434641,  3.31428822,  2.74065866,  6.41585524, 14.11880599,\n",
       "        -3.2280306 ],\n",
       "       ...,\n",
       "       [-1.31560751,  3.0534489 , -1.4024554 , -1.29377678, -7.26002406,\n",
       "        -5.60340146],\n",
       "       [-2.83741585,  1.71147365, -2.81767944, -2.86738195, -9.97122666,\n",
       "        -9.60305108],\n",
       "       [ 4.59241914, -0.27871488,  1.72417845, 18.77315385,  0.05591599,\n",
       "        -0.51851241]])"
      ]
     },
     "execution_count": 20,
     "metadata": {},
     "output_type": "execute_result"
    }
   ],
   "source": [
    "q_table"
   ]
  },
  {
   "cell_type": "code",
   "execution_count": 24,
   "id": "9ab12af3",
   "metadata": {
    "scrolled": true
   },
   "outputs": [
    {
     "name": "stdout",
     "output_type": "stream",
     "text": [
      "Average per thousand episodes\n",
      "1000  :  -247.78100000000006\n",
      "2000  :  -36.07199999999999\n",
      "3000  :  2.0759999999999943\n",
      "4000  :  5.878999999999976\n",
      "5000  :  6.829999999999972\n",
      "6000  :  7.3519999999999746\n",
      "7000  :  7.340999999999966\n",
      "8000  :  7.395999999999962\n",
      "9000  :  7.323999999999961\n",
      "10000  :  7.417999999999959\n"
     ]
    }
   ],
   "source": [
    "#Calculate and print average reward per thousand episodes\n",
    "rewards_per_thousand_episodes = np.split(np.array(rewards_all_episodes), num_episodes/1000)\n",
    "count = 1000\n",
    "\n",
    "print(\"Average per thousand episodes\")\n",
    "for r in rewards_per_thousand_episodes:\n",
    "    print(count,  \" : \", str(sum(r/1000)))\n",
    "    count+= 1000"
   ]
  },
  {
   "cell_type": "code",
   "execution_count": null,
   "id": "436a010e",
   "metadata": {},
   "outputs": [],
   "source": []
  },
  {
   "cell_type": "code",
   "execution_count": null,
   "id": "ca30061d",
   "metadata": {},
   "outputs": [],
   "source": []
  }
 ],
 "metadata": {
  "kernelspec": {
   "display_name": "Python 3",
   "language": "python",
   "name": "python3"
  },
  "language_info": {
   "codemirror_mode": {
    "name": "ipython",
    "version": 3
   },
   "file_extension": ".py",
   "mimetype": "text/x-python",
   "name": "python",
   "nbconvert_exporter": "python",
   "pygments_lexer": "ipython3",
   "version": "3.6.13"
  }
 },
 "nbformat": 4,
 "nbformat_minor": 5
}
